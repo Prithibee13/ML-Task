{
  "nbformat": 4,
  "nbformat_minor": 0,
  "metadata": {
    "colab": {
      "provenance": []
    },
    "kernelspec": {
      "name": "python3",
      "display_name": "Python 3"
    },
    "language_info": {
      "name": "python"
    }
  },
  "cells": [
    {
      "cell_type": "code",
      "execution_count": 1,
      "metadata": {
        "id": "zctxvlfLfXJl"
      },
      "outputs": [],
      "source": [
        "import pandas as pd\n",
        "import numpy as np"
      ]
    },
    {
      "cell_type": "code",
      "source": [
        "df = pd.read_csv('https://docs.google.com/spreadsheets/d/e/2PACX-1vSReNRzjhxq3oT03rISUM7-5UcNf_flKxO0AjFGcPbx3HapArOSyucjKEszeNDWUX7Qymiwm1Bqt73A/pub?gid=53846645&single=true&output=csv')"
      ],
      "metadata": {
        "id": "XVIqmsNJfX6g"
      },
      "execution_count": 2,
      "outputs": []
    },
    {
      "cell_type": "code",
      "source": [
        "df.head()"
      ],
      "metadata": {
        "colab": {
          "base_uri": "https://localhost:8080/",
          "height": 206
        },
        "id": "nGFYh_XZfX9i",
        "outputId": "36ac0a95-079a-4ab1-db2c-60d94f440c12"
      },
      "execution_count": 3,
      "outputs": [
        {
          "output_type": "execute_result",
          "data": {
            "text/plain": [
              "                                              review  sentiment\n",
              "0  But this movie was a bore. The history part wa...          0\n",
              "1  Divorced lawyer Rick Magruder (Branagh) stumbl...          0\n",
              "2  Man about the house is a true situation comedy...          1\n",
              "3  As a film buff, I obviously had read all the e...          1\n",
              "4  That's about the only redeeming quality in a m...          0"
            ],
            "text/html": [
              "\n",
              "  <div id=\"df-6b0e7b69-38e4-4a72-9d2b-8c16eeeaea08\" class=\"colab-df-container\">\n",
              "    <div>\n",
              "<style scoped>\n",
              "    .dataframe tbody tr th:only-of-type {\n",
              "        vertical-align: middle;\n",
              "    }\n",
              "\n",
              "    .dataframe tbody tr th {\n",
              "        vertical-align: top;\n",
              "    }\n",
              "\n",
              "    .dataframe thead th {\n",
              "        text-align: right;\n",
              "    }\n",
              "</style>\n",
              "<table border=\"1\" class=\"dataframe\">\n",
              "  <thead>\n",
              "    <tr style=\"text-align: right;\">\n",
              "      <th></th>\n",
              "      <th>review</th>\n",
              "      <th>sentiment</th>\n",
              "    </tr>\n",
              "  </thead>\n",
              "  <tbody>\n",
              "    <tr>\n",
              "      <th>0</th>\n",
              "      <td>But this movie was a bore. The history part wa...</td>\n",
              "      <td>0</td>\n",
              "    </tr>\n",
              "    <tr>\n",
              "      <th>1</th>\n",
              "      <td>Divorced lawyer Rick Magruder (Branagh) stumbl...</td>\n",
              "      <td>0</td>\n",
              "    </tr>\n",
              "    <tr>\n",
              "      <th>2</th>\n",
              "      <td>Man about the house is a true situation comedy...</td>\n",
              "      <td>1</td>\n",
              "    </tr>\n",
              "    <tr>\n",
              "      <th>3</th>\n",
              "      <td>As a film buff, I obviously had read all the e...</td>\n",
              "      <td>1</td>\n",
              "    </tr>\n",
              "    <tr>\n",
              "      <th>4</th>\n",
              "      <td>That's about the only redeeming quality in a m...</td>\n",
              "      <td>0</td>\n",
              "    </tr>\n",
              "  </tbody>\n",
              "</table>\n",
              "</div>\n",
              "    <div class=\"colab-df-buttons\">\n",
              "\n",
              "  <div class=\"colab-df-container\">\n",
              "    <button class=\"colab-df-convert\" onclick=\"convertToInteractive('df-6b0e7b69-38e4-4a72-9d2b-8c16eeeaea08')\"\n",
              "            title=\"Convert this dataframe to an interactive table.\"\n",
              "            style=\"display:none;\">\n",
              "\n",
              "  <svg xmlns=\"http://www.w3.org/2000/svg\" height=\"24px\" viewBox=\"0 -960 960 960\">\n",
              "    <path d=\"M120-120v-720h720v720H120Zm60-500h600v-160H180v160Zm220 220h160v-160H400v160Zm0 220h160v-160H400v160ZM180-400h160v-160H180v160Zm440 0h160v-160H620v160ZM180-180h160v-160H180v160Zm440 0h160v-160H620v160Z\"/>\n",
              "  </svg>\n",
              "    </button>\n",
              "\n",
              "  <style>\n",
              "    .colab-df-container {\n",
              "      display:flex;\n",
              "      gap: 12px;\n",
              "    }\n",
              "\n",
              "    .colab-df-convert {\n",
              "      background-color: #E8F0FE;\n",
              "      border: none;\n",
              "      border-radius: 50%;\n",
              "      cursor: pointer;\n",
              "      display: none;\n",
              "      fill: #1967D2;\n",
              "      height: 32px;\n",
              "      padding: 0 0 0 0;\n",
              "      width: 32px;\n",
              "    }\n",
              "\n",
              "    .colab-df-convert:hover {\n",
              "      background-color: #E2EBFA;\n",
              "      box-shadow: 0px 1px 2px rgba(60, 64, 67, 0.3), 0px 1px 3px 1px rgba(60, 64, 67, 0.15);\n",
              "      fill: #174EA6;\n",
              "    }\n",
              "\n",
              "    .colab-df-buttons div {\n",
              "      margin-bottom: 4px;\n",
              "    }\n",
              "\n",
              "    [theme=dark] .colab-df-convert {\n",
              "      background-color: #3B4455;\n",
              "      fill: #D2E3FC;\n",
              "    }\n",
              "\n",
              "    [theme=dark] .colab-df-convert:hover {\n",
              "      background-color: #434B5C;\n",
              "      box-shadow: 0px 1px 3px 1px rgba(0, 0, 0, 0.15);\n",
              "      filter: drop-shadow(0px 1px 2px rgba(0, 0, 0, 0.3));\n",
              "      fill: #FFFFFF;\n",
              "    }\n",
              "  </style>\n",
              "\n",
              "    <script>\n",
              "      const buttonEl =\n",
              "        document.querySelector('#df-6b0e7b69-38e4-4a72-9d2b-8c16eeeaea08 button.colab-df-convert');\n",
              "      buttonEl.style.display =\n",
              "        google.colab.kernel.accessAllowed ? 'block' : 'none';\n",
              "\n",
              "      async function convertToInteractive(key) {\n",
              "        const element = document.querySelector('#df-6b0e7b69-38e4-4a72-9d2b-8c16eeeaea08');\n",
              "        const dataTable =\n",
              "          await google.colab.kernel.invokeFunction('convertToInteractive',\n",
              "                                                    [key], {});\n",
              "        if (!dataTable) return;\n",
              "\n",
              "        const docLinkHtml = 'Like what you see? Visit the ' +\n",
              "          '<a target=\"_blank\" href=https://colab.research.google.com/notebooks/data_table.ipynb>data table notebook</a>'\n",
              "          + ' to learn more about interactive tables.';\n",
              "        element.innerHTML = '';\n",
              "        dataTable['output_type'] = 'display_data';\n",
              "        await google.colab.output.renderOutput(dataTable, element);\n",
              "        const docLink = document.createElement('div');\n",
              "        docLink.innerHTML = docLinkHtml;\n",
              "        element.appendChild(docLink);\n",
              "      }\n",
              "    </script>\n",
              "  </div>\n",
              "\n",
              "\n",
              "    <div id=\"df-f8a4365d-2658-4ecc-97b9-224c5deeea70\">\n",
              "      <button class=\"colab-df-quickchart\" onclick=\"quickchart('df-f8a4365d-2658-4ecc-97b9-224c5deeea70')\"\n",
              "                title=\"Suggest charts\"\n",
              "                style=\"display:none;\">\n",
              "\n",
              "<svg xmlns=\"http://www.w3.org/2000/svg\" height=\"24px\"viewBox=\"0 0 24 24\"\n",
              "     width=\"24px\">\n",
              "    <g>\n",
              "        <path d=\"M19 3H5c-1.1 0-2 .9-2 2v14c0 1.1.9 2 2 2h14c1.1 0 2-.9 2-2V5c0-1.1-.9-2-2-2zM9 17H7v-7h2v7zm4 0h-2V7h2v10zm4 0h-2v-4h2v4z\"/>\n",
              "    </g>\n",
              "</svg>\n",
              "      </button>\n",
              "\n",
              "<style>\n",
              "  .colab-df-quickchart {\n",
              "      --bg-color: #E8F0FE;\n",
              "      --fill-color: #1967D2;\n",
              "      --hover-bg-color: #E2EBFA;\n",
              "      --hover-fill-color: #174EA6;\n",
              "      --disabled-fill-color: #AAA;\n",
              "      --disabled-bg-color: #DDD;\n",
              "  }\n",
              "\n",
              "  [theme=dark] .colab-df-quickchart {\n",
              "      --bg-color: #3B4455;\n",
              "      --fill-color: #D2E3FC;\n",
              "      --hover-bg-color: #434B5C;\n",
              "      --hover-fill-color: #FFFFFF;\n",
              "      --disabled-bg-color: #3B4455;\n",
              "      --disabled-fill-color: #666;\n",
              "  }\n",
              "\n",
              "  .colab-df-quickchart {\n",
              "    background-color: var(--bg-color);\n",
              "    border: none;\n",
              "    border-radius: 50%;\n",
              "    cursor: pointer;\n",
              "    display: none;\n",
              "    fill: var(--fill-color);\n",
              "    height: 32px;\n",
              "    padding: 0;\n",
              "    width: 32px;\n",
              "  }\n",
              "\n",
              "  .colab-df-quickchart:hover {\n",
              "    background-color: var(--hover-bg-color);\n",
              "    box-shadow: 0 1px 2px rgba(60, 64, 67, 0.3), 0 1px 3px 1px rgba(60, 64, 67, 0.15);\n",
              "    fill: var(--button-hover-fill-color);\n",
              "  }\n",
              "\n",
              "  .colab-df-quickchart-complete:disabled,\n",
              "  .colab-df-quickchart-complete:disabled:hover {\n",
              "    background-color: var(--disabled-bg-color);\n",
              "    fill: var(--disabled-fill-color);\n",
              "    box-shadow: none;\n",
              "  }\n",
              "\n",
              "  .colab-df-spinner {\n",
              "    border: 2px solid var(--fill-color);\n",
              "    border-color: transparent;\n",
              "    border-bottom-color: var(--fill-color);\n",
              "    animation:\n",
              "      spin 1s steps(1) infinite;\n",
              "  }\n",
              "\n",
              "  @keyframes spin {\n",
              "    0% {\n",
              "      border-color: transparent;\n",
              "      border-bottom-color: var(--fill-color);\n",
              "      border-left-color: var(--fill-color);\n",
              "    }\n",
              "    20% {\n",
              "      border-color: transparent;\n",
              "      border-left-color: var(--fill-color);\n",
              "      border-top-color: var(--fill-color);\n",
              "    }\n",
              "    30% {\n",
              "      border-color: transparent;\n",
              "      border-left-color: var(--fill-color);\n",
              "      border-top-color: var(--fill-color);\n",
              "      border-right-color: var(--fill-color);\n",
              "    }\n",
              "    40% {\n",
              "      border-color: transparent;\n",
              "      border-right-color: var(--fill-color);\n",
              "      border-top-color: var(--fill-color);\n",
              "    }\n",
              "    60% {\n",
              "      border-color: transparent;\n",
              "      border-right-color: var(--fill-color);\n",
              "    }\n",
              "    80% {\n",
              "      border-color: transparent;\n",
              "      border-right-color: var(--fill-color);\n",
              "      border-bottom-color: var(--fill-color);\n",
              "    }\n",
              "    90% {\n",
              "      border-color: transparent;\n",
              "      border-bottom-color: var(--fill-color);\n",
              "    }\n",
              "  }\n",
              "</style>\n",
              "\n",
              "      <script>\n",
              "        async function quickchart(key) {\n",
              "          const quickchartButtonEl =\n",
              "            document.querySelector('#' + key + ' button');\n",
              "          quickchartButtonEl.disabled = true;  // To prevent multiple clicks.\n",
              "          quickchartButtonEl.classList.add('colab-df-spinner');\n",
              "          try {\n",
              "            const charts = await google.colab.kernel.invokeFunction(\n",
              "                'suggestCharts', [key], {});\n",
              "          } catch (error) {\n",
              "            console.error('Error during call to suggestCharts:', error);\n",
              "          }\n",
              "          quickchartButtonEl.classList.remove('colab-df-spinner');\n",
              "          quickchartButtonEl.classList.add('colab-df-quickchart-complete');\n",
              "        }\n",
              "        (() => {\n",
              "          let quickchartButtonEl =\n",
              "            document.querySelector('#df-f8a4365d-2658-4ecc-97b9-224c5deeea70 button');\n",
              "          quickchartButtonEl.style.display =\n",
              "            google.colab.kernel.accessAllowed ? 'block' : 'none';\n",
              "        })();\n",
              "      </script>\n",
              "    </div>\n",
              "\n",
              "    </div>\n",
              "  </div>\n"
            ],
            "application/vnd.google.colaboratory.intrinsic+json": {
              "type": "dataframe",
              "variable_name": "df",
              "summary": "{\n  \"name\": \"df\",\n  \"rows\": 5000,\n  \"fields\": [\n    {\n      \"column\": \"review\",\n      \"properties\": {\n        \"dtype\": \"string\",\n        \"num_unique_values\": 4997,\n        \"samples\": [\n          \"I saw this movie a million years (5 years to be exact) ago for the first the time. In the light of recent events with the Australian woman Schapelle Corby being imprisoned in Indonesia for so called smuggling pot, I decided to watch this movie again. I excepted to cry my heart out, 'cause I'm sucker for hot girls in need (just read my review of 'the stalking of Laurie Show'). Some moist escaped my eyes, but it were hardly buckets filled with tears. Why? Not because the two heroines weren't utterly adoring and helpless, not because the movie wasn't heartbreaking at the sight of these two kids in the prime of their live locked up in almost inhuman conditions. Why then? Why did I not cry? I wanted to cry! When I rent a movie like this, I except to be moved, to sob like there's no tomorrow, to feel miserable and like it. This movie was simply too short to do this. It was just like the script was reduced to the main plot elements, and while doing this the psychological aspect was thrown aside. Clare Danes and Kate Beckinsale did an excellent job portraying the emotions of the two friends, but this movie just screamed for more footage of these girls in their depressing (and oppressing) surroundings. The mental journey is missing here for some reason. You only get to see the key moments of it (which are very touching, I admit), probably because of bad editing. Sometimes I felt these girls were walking around in a postcard. The relationship with the family members could also have used a bit more attention. What's up with the relationships between the girls and the parents (especially between Alice and her dad)? You catch a glimpse of it, but the film doesn't quite offer the whole picture, sadly enough.<br /><br />Nonetheless this was a great movie, and at the end I even had to bite my lip a bit. But I guess this has more to do with the acting skills (and the looks) of the actresses (and the music) then with the merit of the director. To be honest, I hardly knew who Kate Beckinsale was before I watched this movie (again). Now, I am a fan! Great movie, as long as you don't expect it to be classic cinema.\",\n          \"!!! Spoiler alert!!!<br /><br />The point is, though, that I didn't think this film had an ending TO spoil... I only started watching it in the middle, after Matt had gotten into Sarah's body, but then I became fascinated by the bizarreness of the plot, even for a Channel 5 movie... and couldn't possibly see how Matt wld end up happy. What about his fiancee? At one stage looked like he was gonna get with his best friend, surely icky and wrong... and then the whole 'oggi oggi oggi' thing does NOT WORK as a touching buddy-buddy catchphrase, tis just ridiculous... so was going 'surely he can't just come back to life? and yet how can he live as a woman?' and then the film just got over that by ending and not explaining anything at all!!!!! What's that about??? I was so cross, wasted a whole hour of my life for no reason at all!!! :) but was one of the funniest films I've ever seen, so, swings and roundabouts\",\n          \"I must say I was surprised to find several positive comments to this turkey (in desperate need of a feather transplant)! I'm giving it a 1 because I think the idea of making a movie about the wild man of rock'n'roll - Jerry Lee Lewis, is honorable, but it's a shame to put out such trash and the \\\"killer\\\" does not deserve this! It's a good thing it came late in his career... they said Elvis practically ruined his career with the movies he put out through the sixties and this could have done the same for Jerry lee, had it come out some 15-20 years earlier! It's based on Myra Gail Lewis book and that's a shame to begin with. It's a bad and inaccurate story of her life together with Lewis and there is far better books about the Killer, that could have made a much better and more interesting script. Add to this a bunch of actors who doesn't know if they are participating in a drama, comedy or a little bit of both! The otherwise fine actor Dennis Quaid is putting on what must be one of the worst performances of an actor in many a moon! He is walking around in the picture, talking about his \\\"god-given talent\\\" and as a spectator, you wish he'd show some of it on the screen too! Silly gestures and funny faces and Jerry Lee must have felt betrayed when he saw what had become of him in this truly awful movie! The rest of the crew is almost as bad... save for Winona Ryder, who does her best with the crappy lines given to her. It's \\\"Grease\\\" all over again and whenever Jerry Lee take a ride around Memphis in his convertible, having the radio on in the car, the whole town is dancing to the music from it! Everybody in this movie are like cartoon figures of the real people involved... from the wild man himself to Sun Records Sam Philips! And it's a damn shame! A charismatic and interesting artist like Jerry Lee Lewis deserves better and I hope he took the 500.000 dollars he got from the deal and told the company to go f**k themselves... twice!\"\n        ],\n        \"semantic_type\": \"\",\n        \"description\": \"\"\n      }\n    },\n    {\n      \"column\": \"sentiment\",\n      \"properties\": {\n        \"dtype\": \"number\",\n        \"std\": 0,\n        \"min\": 0,\n        \"max\": 1,\n        \"num_unique_values\": 2,\n        \"samples\": [\n          1,\n          0\n        ],\n        \"semantic_type\": \"\",\n        \"description\": \"\"\n      }\n    }\n  ]\n}"
            }
          },
          "metadata": {},
          "execution_count": 3
        }
      ]
    },
    {
      "cell_type": "code",
      "source": [
        "X = df['review']"
      ],
      "metadata": {
        "id": "XHQHaUUbfYBk"
      },
      "execution_count": 4,
      "outputs": []
    },
    {
      "cell_type": "code",
      "source": [
        "y = df['sentiment']"
      ],
      "metadata": {
        "id": "CwZaAJ4DfYD8"
      },
      "execution_count": 5,
      "outputs": []
    },
    {
      "cell_type": "code",
      "source": [
        "df.isnull().sum()"
      ],
      "metadata": {
        "colab": {
          "base_uri": "https://localhost:8080/",
          "height": 147
        },
        "id": "BJwY4Y9coFZY",
        "outputId": "4e6b3746-27a4-4c36-b063-e8c09c58619d"
      },
      "execution_count": 6,
      "outputs": [
        {
          "output_type": "execute_result",
          "data": {
            "text/plain": [
              "review       0\n",
              "sentiment    0\n",
              "dtype: int64"
            ],
            "text/html": [
              "<div>\n",
              "<style scoped>\n",
              "    .dataframe tbody tr th:only-of-type {\n",
              "        vertical-align: middle;\n",
              "    }\n",
              "\n",
              "    .dataframe tbody tr th {\n",
              "        vertical-align: top;\n",
              "    }\n",
              "\n",
              "    .dataframe thead th {\n",
              "        text-align: right;\n",
              "    }\n",
              "</style>\n",
              "<table border=\"1\" class=\"dataframe\">\n",
              "  <thead>\n",
              "    <tr style=\"text-align: right;\">\n",
              "      <th></th>\n",
              "      <th>0</th>\n",
              "    </tr>\n",
              "  </thead>\n",
              "  <tbody>\n",
              "    <tr>\n",
              "      <th>review</th>\n",
              "      <td>0</td>\n",
              "    </tr>\n",
              "    <tr>\n",
              "      <th>sentiment</th>\n",
              "      <td>0</td>\n",
              "    </tr>\n",
              "  </tbody>\n",
              "</table>\n",
              "</div><br><label><b>dtype:</b> int64</label>"
            ]
          },
          "metadata": {},
          "execution_count": 6
        }
      ]
    },
    {
      "cell_type": "code",
      "source": [
        "message = X.copy()"
      ],
      "metadata": {
        "id": "YsYieeLtfYHN"
      },
      "execution_count": 7,
      "outputs": []
    },
    {
      "cell_type": "code",
      "source": [
        "import spacy"
      ],
      "metadata": {
        "id": "OtLvUIusfYK5"
      },
      "execution_count": 8,
      "outputs": []
    },
    {
      "cell_type": "markdown",
      "source": [
        "**Language model**"
      ],
      "metadata": {
        "id": "tlq0tJ2nZYSI"
      }
    },
    {
      "cell_type": "code",
      "source": [
        "nlp = spacy.load('en_core_web_sm')"
      ],
      "metadata": {
        "id": "OPt6Ggu3fYQK"
      },
      "execution_count": 9,
      "outputs": []
    },
    {
      "cell_type": "code",
      "source": [
        "corpus = []\n",
        "empty_count = 0\n",
        "import re"
      ],
      "metadata": {
        "id": "9P7Ys3k1fYTb"
      },
      "execution_count": 10,
      "outputs": []
    },
    {
      "cell_type": "markdown",
      "source": [
        "**Text Preprocessing**"
      ],
      "metadata": {
        "id": "YyMhP_EYZkZo"
      }
    },
    {
      "cell_type": "code",
      "source": [
        "for review in message:\n",
        "  review = re.sub(r'<[^>]+>', ' ', review)\n",
        "  review = re.sub('[^a-zA-Z]', ' ' , review) # Only take alphanumaric text\n",
        "  review = review.lower() # always lower case\n",
        "  review = nlp(review) # spacy object\n",
        "  review = [token.lemma_ for token in review if not token.is_stop] #TOkenization lemmatization and removing stop word\n",
        "  review = ' '.join(review)\n",
        "  corpus.append(review) # add to courpus\n"
      ],
      "metadata": {
        "id": "blnGQpnxfYWH"
      },
      "execution_count": 11,
      "outputs": []
    },
    {
      "cell_type": "code",
      "source": [
        "print(empty_count)"
      ],
      "metadata": {
        "colab": {
          "base_uri": "https://localhost:8080/"
        },
        "id": "6U1ER8GJjgn2",
        "outputId": "e8d79d67-5030-49c7-d3bb-24c1063c71bf"
      },
      "execution_count": null,
      "outputs": [
        {
          "output_type": "stream",
          "name": "stdout",
          "text": [
            "0\n"
          ]
        }
      ]
    },
    {
      "cell_type": "code",
      "source": [
        "from sklearn.feature_extraction.text import TfidfVectorizer"
      ],
      "metadata": {
        "id": "qmbTZQMLfYZP"
      },
      "execution_count": 12,
      "outputs": []
    },
    {
      "cell_type": "markdown",
      "source": [
        "**Implemnting TF-IDF on courpus**"
      ],
      "metadata": {
        "id": "VBEYg-pnahTd"
      }
    },
    {
      "cell_type": "code",
      "source": [
        "tv = TfidfVectorizer(max_features=50000) #Declearing TF-IDF\n",
        "vector = tv.fit_transform(corpus) #TF-IDF of courpus"
      ],
      "metadata": {
        "id": "JygoOCXAfYbu"
      },
      "execution_count": 13,
      "outputs": []
    },
    {
      "cell_type": "code",
      "source": [
        "vector"
      ],
      "metadata": {
        "colab": {
          "base_uri": "https://localhost:8080/"
        },
        "id": "Rd7DX8xBfYd_",
        "outputId": "45ff5021-75bb-4f51-e51c-6ed6546efeef"
      },
      "execution_count": 14,
      "outputs": [
        {
          "output_type": "execute_result",
          "data": {
            "text/plain": [
              "<Compressed Sparse Row sparse matrix of dtype 'float64'\n",
              "\twith 412492 stored elements and shape (5000, 30730)>"
            ]
          },
          "metadata": {},
          "execution_count": 14
        }
      ]
    },
    {
      "cell_type": "code",
      "source": [
        "y = df.iloc[:, 1].values"
      ],
      "metadata": {
        "id": "Uld9hosdfYgb"
      },
      "execution_count": 15,
      "outputs": []
    },
    {
      "cell_type": "code",
      "source": [
        "vector=vector.toarray()"
      ],
      "metadata": {
        "id": "kZyLzG-WfYkc"
      },
      "execution_count": 16,
      "outputs": []
    },
    {
      "cell_type": "code",
      "source": [
        "vector"
      ],
      "metadata": {
        "colab": {
          "base_uri": "https://localhost:8080/"
        },
        "id": "DBQPUHRTfYnX",
        "outputId": "7c010e7b-cc8d-4488-b044-fb2483ef4906"
      },
      "execution_count": 17,
      "outputs": [
        {
          "output_type": "execute_result",
          "data": {
            "text/plain": [
              "array([[0., 0., 0., ..., 0., 0., 0.],\n",
              "       [0., 0., 0., ..., 0., 0., 0.],\n",
              "       [0., 0., 0., ..., 0., 0., 0.],\n",
              "       ...,\n",
              "       [0., 0., 0., ..., 0., 0., 0.],\n",
              "       [0., 0., 0., ..., 0., 0., 0.],\n",
              "       [0., 0., 0., ..., 0., 0., 0.]])"
            ]
          },
          "metadata": {},
          "execution_count": 17
        }
      ]
    },
    {
      "cell_type": "code",
      "source": [
        "print(\"Any nonzero?\", np.any(vector != 0))\n",
        "print(\"Number of nonzero values:\", np.count_nonzero(vector))\n",
        "print(\"Example row nonzero count:\", np.count_nonzero(vector[0]))"
      ],
      "metadata": {
        "colab": {
          "base_uri": "https://localhost:8080/"
        },
        "id": "FHScup34fYq1",
        "outputId": "493d4d39-a2b7-4275-a568-81bbb77a5213"
      },
      "execution_count": 18,
      "outputs": [
        {
          "output_type": "stream",
          "name": "stdout",
          "text": [
            "Any nonzero? True\n",
            "Number of nonzero values: 412492\n",
            "Example row nonzero count: 41\n"
          ]
        }
      ]
    },
    {
      "cell_type": "code",
      "source": [
        "row_idx = 0\n",
        "nonzero_indices = np.nonzero(vector[row_idx])[0]\n",
        "print(\"Indices:\", nonzero_indices)\n",
        "print(\"Values:\", vector[row_idx, nonzero_indices])"
      ],
      "metadata": {
        "colab": {
          "base_uri": "https://localhost:8080/"
        },
        "id": "xCfD8MGffYvR",
        "outputId": "824e6d6b-6ecb-4b45-934b-51b0d9e9741b"
      },
      "execution_count": 19,
      "outputs": [
        {
          "output_type": "stream",
          "name": "stdout",
          "text": [
            "Indices: [  235  1031  2237  3094  3278  3967  4368  4608  5195  5623  6608  9853\n",
            " 11956 12224 12590 12593 12977 13867 14321 14375 14463 15302 18095 18247\n",
            " 18248 19066 19549 19626 21778 22384 22623 23688 24488 24866 25221 25290\n",
            " 26369 26515 27930 30247 30282]\n",
            "Values: [0.20148759 0.11366718 0.18816505 0.12811272 0.14671717 0.09673873\n",
            " 0.05481098 0.21206228 0.12562699 0.14725493 0.16760177 0.09998737\n",
            " 0.21956514 0.09507023 0.27869542 0.10964687 0.17590717 0.08562148\n",
            " 0.20148759 0.16426783 0.09946048 0.0974533  0.07501165 0.08650565\n",
            " 0.35313744 0.1562485  0.14893812 0.20148759 0.1441831  0.15404321\n",
            " 0.0970539  0.0611377  0.13855733 0.18816505 0.20658621 0.11896745\n",
            " 0.19704262 0.13144667 0.06978534 0.06673829 0.09228567]\n"
          ]
        }
      ]
    },
    {
      "cell_type": "code",
      "source": [
        "X = vector\n"
      ],
      "metadata": {
        "id": "DbotgT2dfYzO"
      },
      "execution_count": 20,
      "outputs": []
    },
    {
      "cell_type": "markdown",
      "source": [
        "**Splitting Dataset**"
      ],
      "metadata": {
        "id": "OacAJgWPbgEl"
      }
    },
    {
      "cell_type": "code",
      "source": [
        "from sklearn.model_selection import train_test_split\n",
        "\n",
        "X_train, X_test, y_train, y_test = train_test_split(\n",
        "X, y, test_size=0.20, random_state=42)"
      ],
      "metadata": {
        "id": "u7KHgtbnfY2C"
      },
      "execution_count": 21,
      "outputs": []
    },
    {
      "cell_type": "markdown",
      "source": [
        "**Initiating Naive Bayes**"
      ],
      "metadata": {
        "id": "C1bJiwwUTR9h"
      }
    },
    {
      "cell_type": "code",
      "source": [
        "from sklearn.naive_bayes import GaussianNB"
      ],
      "metadata": {
        "id": "exvpLMH2fY5g"
      },
      "execution_count": 22,
      "outputs": []
    },
    {
      "cell_type": "code",
      "source": [
        "gnb = GaussianNB() #initiating Gaussian naive Bayes"
      ],
      "metadata": {
        "id": "Mrw_W1k5fY-x"
      },
      "execution_count": 23,
      "outputs": []
    },
    {
      "cell_type": "markdown",
      "source": [
        "**Train Dataset Into Naive Bayes**"
      ],
      "metadata": {
        "id": "X6tGT550btf0"
      }
    },
    {
      "cell_type": "code",
      "source": [
        "gnbmModel = gnb.fit(X_train,y_train)"
      ],
      "metadata": {
        "id": "frDsLr29fZCK"
      },
      "execution_count": 24,
      "outputs": []
    },
    {
      "cell_type": "markdown",
      "source": [
        "**Prediction of Naive Bayes**"
      ],
      "metadata": {
        "id": "DuyGShDrbsHM"
      }
    },
    {
      "cell_type": "code",
      "source": [
        "gnb_pred = gnbmModel.predict(X_test)"
      ],
      "metadata": {
        "id": "JEBypIbXfZFc"
      },
      "execution_count": 25,
      "outputs": []
    },
    {
      "cell_type": "markdown",
      "source": [
        "**Initiating Decision Tree**"
      ],
      "metadata": {
        "id": "KtOiUbWaTZFW"
      }
    },
    {
      "cell_type": "code",
      "source": [
        "from sklearn.tree import DecisionTreeClassifier"
      ],
      "metadata": {
        "id": "-9QtoeJ4fZI9"
      },
      "execution_count": 26,
      "outputs": []
    },
    {
      "cell_type": "code",
      "source": [
        "DT = DecisionTreeClassifier() #initiate Decietion Tree"
      ],
      "metadata": {
        "id": "2-WqrmQTfZMJ"
      },
      "execution_count": 27,
      "outputs": []
    },
    {
      "cell_type": "markdown",
      "source": [
        "**Train Dataset into Decision Tree**"
      ],
      "metadata": {
        "id": "nGTvP9IgcKFu"
      }
    },
    {
      "cell_type": "code",
      "source": [
        "DTC = DT.fit(X_train,y_train)"
      ],
      "metadata": {
        "id": "e0Mxo3etfZPY"
      },
      "execution_count": 28,
      "outputs": []
    },
    {
      "cell_type": "markdown",
      "source": [
        "**Prediction of Decition Tree**"
      ],
      "metadata": {
        "id": "bmMbVUMicYnk"
      }
    },
    {
      "cell_type": "code",
      "source": [
        "DTC_pred = DTC.predict(X_test)"
      ],
      "metadata": {
        "id": "n-aQQ0eHfZSf"
      },
      "execution_count": 29,
      "outputs": []
    },
    {
      "cell_type": "markdown",
      "source": [
        "**Initiating Logisitic Regression**"
      ],
      "metadata": {
        "id": "TtU74F-CTly9"
      }
    },
    {
      "cell_type": "code",
      "source": [
        "from sklearn.linear_model import LogisticRegression"
      ],
      "metadata": {
        "id": "f-VZotdVfZZy"
      },
      "execution_count": 30,
      "outputs": []
    },
    {
      "cell_type": "code",
      "source": [
        "LR = LogisticRegression() #initiate Logistic Regression"
      ],
      "metadata": {
        "id": "1qoiJBfzfZc9"
      },
      "execution_count": 31,
      "outputs": []
    },
    {
      "cell_type": "markdown",
      "source": [
        "**Train Daraset Into Logistic Regression**"
      ],
      "metadata": {
        "id": "tGEx9p8AdqpP"
      }
    },
    {
      "cell_type": "code",
      "source": [
        "LRModel = LR.fit(X_train,y_train)"
      ],
      "metadata": {
        "id": "F7fXJkv4fZgW"
      },
      "execution_count": 32,
      "outputs": []
    },
    {
      "cell_type": "markdown",
      "source": [
        "**Prediction of Logistic Regression**"
      ],
      "metadata": {
        "id": "QT0f5L5xdxfN"
      }
    },
    {
      "cell_type": "code",
      "source": [
        "LRPredict = LRModel.predict(X_test)"
      ],
      "metadata": {
        "id": "DOQI6rRGfZkN"
      },
      "execution_count": 33,
      "outputs": []
    },
    {
      "cell_type": "markdown",
      "source": [
        "**Confusion Matrix for Naive Bayes**"
      ],
      "metadata": {
        "id": "z7gHfnm1d8J1"
      }
    },
    {
      "cell_type": "code",
      "source": [
        "from sklearn.metrics import confusion_matrix\n",
        "gnb_conf_matrix = confusion_matrix(y_test, gnb_pred)\n",
        "\n",
        "print(\"Naieve Bayes Confusion Matrix:\")\n",
        "print(gnb_conf_matrix)"
      ],
      "metadata": {
        "colab": {
          "base_uri": "https://localhost:8080/"
        },
        "id": "ctlewXayRmSw",
        "outputId": "32889ed7-541c-4e3b-9fb4-64056b794309"
      },
      "execution_count": 34,
      "outputs": [
        {
          "output_type": "stream",
          "name": "stdout",
          "text": [
            "Naieve Bayes Confusion Matrix:\n",
            "[[327 168]\n",
            " [175 330]]\n"
          ]
        }
      ]
    },
    {
      "cell_type": "markdown",
      "source": [
        "**Confusion Matrix for Decision Tree**"
      ],
      "metadata": {
        "id": "P4qh_e6OeT1P"
      }
    },
    {
      "cell_type": "code",
      "source": [
        "DT_conf_Matrix = confusion_matrix(y_test, DTC_pred)\n",
        "\n",
        "print(\"Decision Tree Confusion Matrix:\")\n",
        "print(DT_conf_Matrix)"
      ],
      "metadata": {
        "colab": {
          "base_uri": "https://localhost:8080/"
        },
        "id": "kWEU1tbgRmV_",
        "outputId": "f220f834-1e00-4067-fc9a-2a2ab00c5d9a"
      },
      "execution_count": 35,
      "outputs": [
        {
          "output_type": "stream",
          "name": "stdout",
          "text": [
            "Decision Tree Confusion Matrix:\n",
            "[[340 155]\n",
            " [138 367]]\n"
          ]
        }
      ]
    },
    {
      "cell_type": "markdown",
      "source": [
        "**Confusion Matrix for Logistic Regression**"
      ],
      "metadata": {
        "id": "ORNOTNicecir"
      }
    },
    {
      "cell_type": "code",
      "source": [
        "LR_conf_Matrix = confusion_matrix(y_test, LRPredict)\n",
        "\n",
        "print(\"Logistic Regression Confusion Matrix:\")\n",
        "print(LR_conf_Matrix)"
      ],
      "metadata": {
        "colab": {
          "base_uri": "https://localhost:8080/"
        },
        "id": "7X79eQBvRmZZ",
        "outputId": "2f6f6d65-6b84-435d-c79a-cbc4770f7331"
      },
      "execution_count": 36,
      "outputs": [
        {
          "output_type": "stream",
          "name": "stdout",
          "text": [
            "Logistic Regression Confusion Matrix:\n",
            "[[417  78]\n",
            " [ 52 453]]\n"
          ]
        }
      ]
    },
    {
      "cell_type": "code",
      "source": [
        "import matplotlib.pyplot as plt\n",
        "import seaborn as sns\n",
        "\n",
        "# Plot confusion matrix\n",
        "plt.figure(figsize=(8, 6))\n",
        "sns.heatmap(gnb_conf_matrix, annot=True, fmt=\"d\", cmap=\"Blues\", xticklabels=[\"Negative\", \"Positive\"], yticklabels=[\"Negative\", \"Positive\"])\n",
        "plt.xlabel(\"Predicted\")\n",
        "plt.ylabel(\"True\")\n",
        "plt.title(\"Naieve Bayes Confusion Matrix\")\n",
        "plt.show()"
      ],
      "metadata": {
        "colab": {
          "base_uri": "https://localhost:8080/",
          "height": 564
        },
        "id": "BP1RwH-_Rmco",
        "outputId": "693f59e0-15c1-48fb-ab03-48da5de4756e"
      },
      "execution_count": 37,
      "outputs": [
        {
          "output_type": "display_data",
          "data": {
            "text/plain": [
              "<Figure size 800x600 with 2 Axes>"
            ],
            "image/png": "[encoded data removed]"
          },
          "metadata": {}
        }
      ]
    },
    {
      "cell_type": "code",
      "source": [
        "import matplotlib.pyplot as plt\n",
        "import seaborn as sns\n",
        "\n",
        "# Plot confusion matrix\n",
        "plt.figure(figsize=(8, 6))\n",
        "sns.heatmap(DT_conf_Matrix, annot=True, fmt=\"d\", cmap=\"Blues\", xticklabels=[\"Negative\", \"Positive\"], yticklabels=[\"Negative\", \"Positive\"])\n",
        "plt.xlabel(\"Predicted\")\n",
        "plt.ylabel(\"True\")\n",
        "plt.title(\"Decision Tree Confusion Matrix\")\n",
        "plt.show()"
      ],
      "metadata": {
        "colab": {
          "base_uri": "https://localhost:8080/",
          "height": 564
        },
        "id": "iidtwgBzRmf9",
        "outputId": "7ea93626-c623-4908-c996-0951e83cc848"
      },
      "execution_count": 38,
      "outputs": [
        {
          "output_type": "display_data",
          "data": {
            "text/plain": [
              "<Figure size 800x600 with 2 Axes>"
            ],
            "image/png": "[encoded data removed]"
          },
          "metadata": {}
        }
      ]
    },
    {
      "cell_type": "code",
      "source": [
        "import matplotlib.pyplot as plt\n",
        "import seaborn as sns\n",
        "\n",
        "# Plot confusion matrix\n",
        "plt.figure(figsize=(8, 6))\n",
        "sns.heatmap(LR_conf_Matrix, annot=True, fmt=\"d\", cmap=\"Blues\", xticklabels=[\"Negative\", \"Positive\"], yticklabels=[\"Negative\", \"Positive\"])\n",
        "plt.xlabel(\"Predicted\")\n",
        "plt.ylabel(\"True\")\n",
        "plt.title(\"Logistic Regression Confusion Matrix\")\n",
        "plt.show()"
      ],
      "metadata": {
        "colab": {
          "base_uri": "https://localhost:8080/",
          "height": 564
        },
        "id": "T8eTOzymRmjm",
        "outputId": "2e276d6d-5115-4e3f-fa1b-a6daf508f6c1"
      },
      "execution_count": 39,
      "outputs": [
        {
          "output_type": "display_data",
          "data": {
            "text/plain": [
              "<Figure size 800x600 with 2 Axes>"
            ],
            "image/png": "[encoded data removed]"
          },
          "metadata": {}
        }
      ]
    },
    {
      "cell_type": "code",
      "source": [
        "from sklearn.metrics import accuracy_score, recall_score, f1_score"
      ],
      "metadata": {
        "id": "PaW6V7QZTEKb"
      },
      "execution_count": 40,
      "outputs": []
    },
    {
      "cell_type": "markdown",
      "source": [
        "**Accuracy, Recall, F1-Score for Naive Bayes**"
      ],
      "metadata": {
        "id": "ty2sjXw0eowb"
      }
    },
    {
      "cell_type": "code",
      "source": [
        "Gnb_accuracy = accuracy_score(y_test, gnb_pred)\n",
        "Gnb_recall = recall_score(y_test, gnb_pred)\n",
        "Gnb_f1 = f1_score(y_test, gnb_pred)"
      ],
      "metadata": {
        "id": "vloyevN6TEOU"
      },
      "execution_count": 41,
      "outputs": []
    },
    {
      "cell_type": "code",
      "source": [
        "print(Gnb_accuracy)\n",
        "print(Gnb_recall)\n",
        "print(Gnb_f1)"
      ],
      "metadata": {
        "colab": {
          "base_uri": "https://localhost:8080/"
        },
        "id": "ay7XmdSpTERy",
        "outputId": "f80ab4a4-8c9b-4566-8cbf-f520f78381bb"
      },
      "execution_count": 42,
      "outputs": [
        {
          "output_type": "stream",
          "name": "stdout",
          "text": [
            "0.657\n",
            "0.6534653465346535\n",
            "0.6580259222333001\n"
          ]
        }
      ]
    },
    {
      "cell_type": "markdown",
      "source": [
        "**Accuracy, Recall, F1-Score for Decision Tree**"
      ],
      "metadata": {
        "id": "qCUB-qX9evaD"
      }
    },
    {
      "cell_type": "code",
      "source": [
        "DT_accuracy = accuracy_score(y_test, DTC_pred)\n",
        "DT_recall = recall_score(y_test, DTC_pred)\n",
        "DT_f1 = f1_score(y_test, DTC_pred)"
      ],
      "metadata": {
        "id": "UabN-yUFTEU6"
      },
      "execution_count": 43,
      "outputs": []
    },
    {
      "cell_type": "code",
      "source": [
        "print(DT_accuracy)\n",
        "print(DT_recall)\n",
        "print(DT_f1)"
      ],
      "metadata": {
        "colab": {
          "base_uri": "https://localhost:8080/"
        },
        "id": "yCKnUzLcTEYK",
        "outputId": "96434e9f-d350-48df-9f4f-ad163954d682"
      },
      "execution_count": 44,
      "outputs": [
        {
          "output_type": "stream",
          "name": "stdout",
          "text": [
            "0.707\n",
            "0.7267326732673267\n",
            "0.7147030185004869\n"
          ]
        }
      ]
    },
    {
      "cell_type": "markdown",
      "source": [
        "**Accuracy, Recall, F1-Score for Logistic Regression**"
      ],
      "metadata": {
        "id": "qpXPhiese1uu"
      }
    },
    {
      "cell_type": "code",
      "source": [
        "LR_accuracy = accuracy_score(y_test, LRPredict)\n",
        "LR_recall = recall_score(y_test, LRPredict)\n",
        "LR_f1 = f1_score(y_test, LRPredict)"
      ],
      "metadata": {
        "id": "g_z2v1AaTEbc"
      },
      "execution_count": 45,
      "outputs": []
    },
    {
      "cell_type": "code",
      "source": [
        "print(LR_accuracy)\n",
        "print(LR_recall)\n",
        "print(LR_f1)"
      ],
      "metadata": {
        "colab": {
          "base_uri": "https://localhost:8080/"
        },
        "id": "NauoiJl2TEfx",
        "outputId": "fdf2b3b8-84db-4071-f341-38b5a220865f"
      },
      "execution_count": 46,
      "outputs": [
        {
          "output_type": "stream",
          "name": "stdout",
          "text": [
            "0.87\n",
            "0.897029702970297\n",
            "0.8745173745173745\n"
          ]
        }
      ]
    },
    {
      "cell_type": "markdown",
      "source": [
        "**Classification of a test Instance**"
      ],
      "metadata": {
        "id": "yrZR1pWAf4ru"
      }
    },
    {
      "cell_type": "code",
      "source": [
        "X_train, X_test, y_train, y_test, idx_train, idx_test = train_test_split(\n",
        "    X, y, df.index, test_size=0.20, random_state=42\n",
        ")"
      ],
      "metadata": {
        "id": "mc-WQ6mdfZqv"
      },
      "execution_count": 47,
      "outputs": []
    },
    {
      "cell_type": "code",
      "source": [
        "original_text = df.loc[idx_test[0], 'review']\n",
        "original_label = df.loc[idx_test[0], 'sentiment']\n",
        "print(\"Review Instance: \",original_text)\n",
        "print(\"Review Label: \", original_label)\n",
        "processed_text = corpus[idx_test[0]]  # processed text from corpus\n",
        "print(\"Processed text:\", processed_text)\n",
        "\n",
        "\n",
        "GnbInstance = gnbmModel.predict(X_test[0].reshape(1, -1))\n",
        "DTInstance = DTC.predict(X_test[0].reshape(1, -1))\n",
        "LRInstance = LRModel.predict(X_test[0].reshape(1, -1))\n",
        "\n",
        "\n",
        "print(\"Naieve Bayes Prediction: \",GnbInstance)\n",
        "print(\"Decision Tree Prediction: \",DTInstance)\n",
        "print(\"Logistic Regression Prediction: \",LRInstance)\n",
        "\n",
        "\n"
      ],
      "metadata": {
        "id": "jF-bed1MfZvQ",
        "colab": {
          "base_uri": "https://localhost:8080/"
        },
        "outputId": "9ca17733-83ce-434e-9613-fd3be0593b8a"
      },
      "execution_count": 48,
      "outputs": [
        {
          "output_type": "stream",
          "name": "stdout",
          "text": [
            "Review Instance:  And here's yet another piece of evidence to claim that we should all worship the Italian giallo and acknowledge it to be the absolute most unique sub genre in horror. Emilio Miraglia's \"The Red Queen Kills Seven Times\" is a totally mesmerizing wholesome of original plotting, stylish production values, enchanting music, great acting talents and inventively gory murder sequences. It's a fabulous giallo (released in the golden year 1972) that belongs in the top-five of every fan of Italian cinema. The storyline doesn't just introduce your average black-gloved & sexually frustrated killer, but blends good old-fashioned revenge motives with the macabre myth of the murderous \"Red Queen\". At young age, their grandfather tells the constantly fighting siblings Kitty and Evelyn about an uncanny lady who, once every 100 years on April 6th, kills seven people of which her sister is the inevitable last victim. Fourteen years later, Kitty has become the successful choreographer of a prominent modeling agency (even sharing her bed with the general manager) when suddenly the killing spree begins. Sister Evelyn would be the obvious culprit, but she moved to the States recently... Or has she? Complex yet compelling and involving red herrings are thrown at you every couple of minutes and the Red Queen character is definitely the most fascinating killer in giallo-history. Her face can never be seen, but she wears a blood red cloak and produces the most ghastly laugh whenever she made a new victim. She's not exactly gentle either, as her victims are barbarically stabbed with a dagger, dragged behind cars and even impaled on fences! That latter one is truly one of the greatest (= most gruesome) acts of violence I've ever seen! What more could you possibly request? Some classy and tasteful nudity, perhaps? The gorgeous female actresses got this more than covered, among them Barbara Bouchet and a young Sybil Danning. Emilio Miraglia isn't the most famous giallo-director, as he only made this one and the equally recommended \"The Night Evelyn Came Out of the Grave\", but his influence and importance should NOT be forgotten.\n",
            "Review Label:  1\n",
            "Processed text: s piece evidence claim worship italian giallo acknowledge absolute unique sub genre horror   emilio miraglia s   red queen kill seven time   totally mesmerize wholesome original plotting   stylish production value   enchant music   great act talent inventively gory murder sequence   s fabulous giallo   release golden year        belong fan italian cinema   storyline doesn t introduce average black gloved    sexually frustrated killer   blend good old fashioned revenge motive macabre myth murderous   red queen    young age   grandfather tell constantly fight sibling kitty evelyn uncanny lady        year april   th   kill seven people sister inevitable victim   fourteen year later   kitty successful choreographer prominent modeling agency   share bed general manager   suddenly kill spree begin   sister evelyn obvious culprit   move state recently       complex compelling involve red herring throw couple minute red queen character definitely fascinating killer giallo history   face see   wear blood red cloak produce ghastly laugh new victim   s exactly gentle   victim barbarically stab dagger   drag car impale fence   truly great     gruesome   act violence ve see   possibly request   classy tasteful nudity     gorgeous female actress get cover   barbara bouchet young sybil danne   emilio miraglia isn t famous giallo director   equally recommend   night evelyn come grave    influence importance forget\n",
            "Naieve Bayes Prediction:  [1]\n",
            "Decision Tree Prediction:  [1]\n",
            "Logistic Regression Prediction:  [1]\n"
          ]
        }
      ]
    },
    {
      "cell_type": "code",
      "source": [
        "import joblib\n",
        "joblib.dump(gnbmModel, \"Naive_Bayes_model.pkl\")\n",
        "joblib.dump(DTC, \"Decision_Tree_model.pkl\")\n",
        "joblib.dump(LRModel, \"Logistic_Regression_model.pkl\")"
      ],
      "metadata": {
        "id": "QTEqGFpzfZyJ",
        "colab": {
          "base_uri": "https://localhost:8080/"
        },
        "outputId": "9ccb8c59-0ae3-434d-adf4-d30f759f55f2"
      },
      "execution_count": 50,
      "outputs": [
        {
          "output_type": "execute_result",
          "data": {
            "text/plain": [
              "['Logistic_Regression_model.pkl']"
            ]
          },
          "metadata": {},
          "execution_count": 50
        }
      ]
    },
    {
      "cell_type": "code",
      "source": [],
      "metadata": {
        "id": "tHr6THb3WfcF"
      },
      "execution_count": null,
      "outputs": []
    },
    {
      "cell_type": "code",
      "source": [],
      "metadata": {
        "id": "wNSW8SzPWffh"
      },
      "execution_count": null,
      "outputs": []
    },
    {
      "cell_type": "code",
      "source": [],
      "metadata": {
        "id": "snKsIWjGWfjb"
      },
      "execution_count": null,
      "outputs": []
    },
    {
      "cell_type": "code",
      "source": [],
      "metadata": {
        "id": "zold7NClWfnh"
      },
      "execution_count": null,
      "outputs": []
    },
    {
      "cell_type": "code",
      "source": [],
      "metadata": {
        "id": "xoHxHlqvWfr_"
      },
      "execution_count": null,
      "outputs": []
    },
    {
      "cell_type": "code",
      "source": [],
      "metadata": {
        "id": "A6KqgXo4fZ61"
      },
      "execution_count": null,
      "outputs": []
    }
  ]
}